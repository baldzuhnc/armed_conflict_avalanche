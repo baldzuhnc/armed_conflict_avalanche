{
 "cells": [
  {
   "cell_type": "code",
   "execution_count": 1,
   "metadata": {},
   "outputs": [],
   "source": [
    "import os\n",
    "os.chdir('/home/clemens/armed_conflict_avalanche/')\n",
    "\n",
    "from workspace.utils import *\n",
    "from voronoi_globe.interface import load_voronoi\n",
    "from arcolanche.pipeline import *\n"
   ]
  },
  {
   "cell_type": "code",
   "execution_count": 2,
   "metadata": {},
   "outputs": [],
   "source": [
    "conflict_type = \"battles\"\n",
    "mesoscale = (32,453,3) #(dt, dx, gridix)\n",
    "coarse = (32, 80, 3)\n",
    "dt, dx, gridix = mesoscale\n"
   ]
  },
  {
   "cell_type": "code",
   "execution_count": 2,
   "metadata": {},
   "outputs": [],
   "source": [
    "def calculate_significant_edges(self_edges, pair_edges, summary = False):\n",
    "        \n",
    "    significant_edges = [[] for _ in range(degree+1)]\n",
    "    counts = np.zeros(degree+1)\n",
    "    \n",
    "    #self edges\n",
    "    for poly, (te, te_shuffle) in self_edges.items():\n",
    "        if (te > te_shuffle).mean() >= (95 / 100):\n",
    "            significant_edges[0].append([(poly, poly), te])\n",
    "    counts[0] = len(self_edges)\n",
    "\n",
    "    #pair edges\n",
    "    for pair, (te, te_shuffle) in pair_edges.items():\n",
    "        d = pair[2]\n",
    "        if 1 <= d <= degree:\n",
    "            counts[d] += 1\n",
    "            if (te > te_shuffle).mean() >= (95/100): #threshold!\n",
    "                significant_edges[d].append([(pair[0], pair[1]), te])            \n",
    "    \n",
    "    #ratio dataframe \n",
    "    if summary:\n",
    "        df = pd.DataFrame(\n",
    "            {\n",
    "                \"Degree\": np.arange(degree+1),\n",
    "                \"Total edges\": counts,\n",
    "                \"Significant edges\": [len(edges) for edges in significant_edges],\n",
    "            }\n",
    "        )\n",
    "        df[\"Ratio\"] = round(df[\"Significant edges\"] / df[\"Total edges\"], 3)\n",
    "        \n",
    "        return df, significant_edges\n",
    "    \n",
    "    else:\n",
    "        return significant_edges"
   ]
  },
  {
   "cell_type": "code",
   "execution_count": 6,
   "metadata": {},
   "outputs": [
    {
     "name": "stderr",
     "output_type": "stream",
     "text": [
      "/home/clemens/miniconda3/envs/conflict/lib/python3.10/site-packages/scipy/sparse/_index.py:146: SparseEfficiencyWarning: Changing the sparsity structure of a csr_matrix is expensive. lil_matrix is more efficient.\n",
      "  self._set_arrayXarray(i, j, x)\n",
      "/home/clemens/armed_conflict_avalanche/arcolanche/triple_transfer_entropy_func.py:80: RuntimeWarning: invalid value encountered in true_divide\n",
      "  p_xt1_given_zt_yt_xt = joint/p_zt_yt_xt[:, :, :, np.newaxis] #p(xt1|zt, yt, xt) = p(xt1, zt, yt, xt)/p(zt, yt, xt), add axis for explicit broadasting: colwise!\n"
     ]
    },
    {
     "name": "stdout",
     "output_type": "stream",
     "text": [
      "   Degree  Total edges  Significant edges  Ratio\n",
      "0       0       3085.0                759  0.246\n",
      "1       1      11390.0               2062  0.181\n",
      "0.30132095680114246\n"
     ]
    }
   ],
   "source": [
    "degree = 1\n",
    "ava_1 = Avalanche(dt = dt, dx = dx, gridix=gridix, degree = degree, triples=False, setup=True)\n",
    "ava_1_self = ava_1.self_edges\n",
    "ava_1_pair = ava_1.pair_edges\n",
    "\n",
    "df_1, sign_edges = calculate_significant_edges(ava_1_self, ava_1_pair, summary = True)\n",
    "\n",
    "#triples\n",
    "ava_2 = Avalanche(dt = dt, dx = dx, gridix=gridix, degree = degree, triples=True, setup=True)\n",
    "ava_2_self = ava_2.self_edges\n",
    "ava_2_pair = ava_2.pair_edges\n",
    "\n",
    "#pair edges\n",
    "significant_triples = []\n",
    "for triplet, (te, te_shuffle) in ava_2_pair.items():\n",
    "    if (te > te_shuffle).mean() >= (95/100): #threshold!\n",
    "        significant_triples.append([(triplet[0], triplet[1], triplet[2]), te])            \n",
    "\n",
    "print(df_1)\n",
    "print(len(significant_triples)/len(ava_2_pair))\n"
   ]
  },
  {
   "cell_type": "code",
   "execution_count": 3,
   "metadata": {},
   "outputs": [],
   "source": [
    "import os\n",
    "from workspace.utils import save_pickle\n",
    "\n",
    "def save_avalanche(ava, conflict_type, gridix, dt, dx, triplets):\n",
    "    ava_box = [[tuple(i) for i in ava.time_series.loc[a].drop_duplicates().values[:, ::-1]] for a in ava.avalanches]\n",
    "    ava_event = ava.avalanches\n",
    "\n",
    "    if triplets:\n",
    "        path = f\"Results/avalanches/{conflict_type}/gridix_{gridix}/triplets\"\n",
    "        if not os.path.exists(path):\n",
    "            os.makedirs(path)\n",
    "            \n",
    "        save_pickle([\"ava_box\", \"ava_event\"], f\"{path}/triplet_ava_{str(dt)}_{str(dx)}.p\", True)\n",
    "    \n",
    "    else:\n",
    "        path = f\"Results/avalanches/{conflict_type}/gridix_{gridix}/pairs\"\n",
    "        if not os.path.exists(path):\n",
    "            os.makedirs(path)\n",
    "        save_pickle([\"ava_box\", \"ava_event\"], f\"{path}/pair_ava_{str(dt)}_{str(dx)}.p\", True)\n",
    "\n",
    "    \n"
   ]
  },
  {
   "cell_type": "code",
   "execution_count": 2,
   "metadata": {},
   "outputs": [
    {
     "ename": "NameError",
     "evalue": "name 'save_avalanche' is not defined",
     "output_type": "error",
     "traceback": [
      "\u001b[0;31m---------------------------------------------------------------------------\u001b[0m",
      "\u001b[0;31mNameError\u001b[0m                                 Traceback (most recent call last)",
      "Cell \u001b[0;32mIn[2], line 1\u001b[0m\n\u001b[0;32m----> 1\u001b[0m \u001b[43msave_avalanche\u001b[49m(ava_1, conflict_type, gridix, dt, dx, triplets\u001b[38;5;241m=\u001b[39m\u001b[38;5;28;01mFalse\u001b[39;00m)\n\u001b[1;32m      3\u001b[0m ava_box, ava_event \u001b[38;5;241m=\u001b[39m load_pickle(\u001b[38;5;124mf\u001b[39m\u001b[38;5;124m\"\u001b[39m\u001b[38;5;124mResults/avalanches/\u001b[39m\u001b[38;5;132;01m{\u001b[39;00mconflict_type\u001b[38;5;132;01m}\u001b[39;00m\u001b[38;5;124m/gridix_\u001b[39m\u001b[38;5;132;01m{\u001b[39;00mgridix\u001b[38;5;132;01m}\u001b[39;00m\u001b[38;5;124m/pairs/pair_ava_\u001b[39m\u001b[38;5;132;01m{\u001b[39;00m\u001b[38;5;28mstr\u001b[39m(dt)\u001b[38;5;132;01m}\u001b[39;00m\u001b[38;5;124m_\u001b[39m\u001b[38;5;132;01m{\u001b[39;00m\u001b[38;5;28mstr\u001b[39m(dx)\u001b[38;5;132;01m}\u001b[39;00m\u001b[38;5;124m.p\u001b[39m\u001b[38;5;124m\"\u001b[39m, \u001b[38;5;28;01mTrue\u001b[39;00m)\n",
      "\u001b[0;31mNameError\u001b[0m: name 'save_avalanche' is not defined"
     ]
    }
   ],
   "source": [
    "save_avalanche(ava_1, conflict_type, gridix, dt, dx, triplets=False)\n",
    "\n"
   ]
  },
  {
   "cell_type": "code",
   "execution_count": 4,
   "metadata": {},
   "outputs": [],
   "source": [
    "#todo read pickle\n",
    "def open_avalanche(conflict_type, gridix, dt, dx, triplets):\n",
    "    \n",
    "    if triplets:\n",
    "        path = f\"Results/avalanches/{conflict_type}/gridix_{gridix}/triplets\"\n",
    "        ava_box, ava_event = pickle.load(f\"{path}/triplet_ava_{str(dt)}_{str(dx)}.p\")\n",
    "    \n",
    "    else:\n",
    "        path = f\"Results/avalanches/{conflict_type}/gridix_{gridix}/pairs\"\n",
    "        ava_box, ava_event = pickle.load(f\"{path}/pair_ava_{str(dt)}_{str(dx)}.p\")\n",
    "\n",
    "    return ava_box, ava_event"
   ]
  },
  {
   "cell_type": "code",
   "execution_count": 8,
   "metadata": {},
   "outputs": [],
   "source": [
    "def load_avalanche(conflict_type, gridix, dt, dx, triplets):\n",
    "    if triplets:\n",
    "        path = f\"Results/avalanches/{conflict_type}/gridix_{gridix}/triplets/triplet_ava_{str(dt)}_{str(dx)}.p\"\n",
    "    else:\n",
    "        path = f\"Results/avalanches/{conflict_type}/gridix_{gridix}/pairs/pair_ava_{str(dt)}_{str(dx)}.p\"\n",
    "    \n",
    "    with open(path, 'rb') as file:\n",
    "        data = pickle.load(file)\n",
    "    return data\n",
    "\n",
    "# Example usage:\n",
    "\n",
    "data = load_avalanche(path)\n"
   ]
  }
 ],
 "metadata": {
  "kernelspec": {
   "display_name": "conflict",
   "language": "python",
   "name": "python3"
  },
  "language_info": {
   "codemirror_mode": {
    "name": "ipython",
    "version": 3
   },
   "file_extension": ".py",
   "mimetype": "text/x-python",
   "name": "python",
   "nbconvert_exporter": "python",
   "pygments_lexer": "ipython3",
   "version": "3.10.6"
  }
 },
 "nbformat": 4,
 "nbformat_minor": 2
}
