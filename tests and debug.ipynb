{
 "cells": [
  {
   "cell_type": "code",
   "execution_count": 1,
   "metadata": {},
   "outputs": [],
   "source": [
    "import pandas as pd\n",
    "import numpy as np\n",
    "import matplotlib.pyplot as plt\n",
    "\n",
    "from te_arcolanche import *\n",
    "\n",
    "import csv\n",
    "\n",
    "from multiprocess import Pool,cpu_count\n",
    "from itertools import product"
   ]
  },
  {
   "cell_type": "code",
   "execution_count": 7,
   "metadata": {},
   "outputs": [],
   "source": [
    "#No need to run this again. The output is saved in conflict_positions.\n",
    "\n",
    "#misc_funcs.conflict_position(\"battles\")"
   ]
  },
  {
   "cell_type": "code",
   "execution_count": 13,
   "metadata": {},
   "outputs": [
    {
     "name": "stdout",
     "output_type": "stream",
     "text": [
      "Finding event to polygon mapping!\n",
      "INFO: Pandarallel will run on 20 workers.\n",
      "INFO: Pandarallel will use Memory file system to transfer data between the main process and workers.\n"
     ]
    },
    {
     "data": {
      "application/vnd.jupyter.widget-view+json": {
       "model_id": "4b39d63b41824d2b8de8975701957c5e",
       "version_major": 2,
       "version_minor": 0
      },
      "text/plain": [
       "VBox(children=(HBox(children=(IntProgress(value=0, description='0.00%', max=2944), Label(value='0 / 2944'))), …"
      ]
     },
     "metadata": {},
     "output_type": "display_data"
    },
    {
     "name": "stdout",
     "output_type": "stream",
     "text": [
      "Done!\n"
     ]
    }
   ],
   "source": [
    "#No need to run this again. The output is saved in event_mappings.\n",
    "\n",
    "#misc_funcs.conflict_event_polygon_mapping(40,0,\"battles\",20)"
   ]
  },
  {
   "cell_type": "code",
   "execution_count": 6,
   "metadata": {},
   "outputs": [],
   "source": [
    "#No need to run this again. The output is saved in 80/160/320/640.\n",
    "\n",
    "#misc_funcs.single_tile_events(640,0,\"battles\")"
   ]
  },
  {
   "cell_type": "code",
   "execution_count": 2,
   "metadata": {},
   "outputs": [],
   "source": [
    "#No need to run this again. The output is saved in FG_time_series.\n",
    "\n",
    "dx = 640\n",
    "gridix = 0\n",
    "ts = misc_funcs.time_series_all_polygons(1,dx,gridix,\"battles\")\n",
    "ts.to_csv(f\"generated_data/battles/gridix_{gridix}/FG_time_series/time_series_1_{str(dx)}.csv\" , index=False)"
   ]
  },
  {
   "cell_type": "code",
   "execution_count": null,
   "metadata": {},
   "outputs": [],
   "source": []
  },
  {
   "cell_type": "code",
   "execution_count": null,
   "metadata": {},
   "outputs": [],
   "source": []
  },
  {
   "cell_type": "code",
   "execution_count": null,
   "metadata": {},
   "outputs": [],
   "source": []
  },
  {
   "cell_type": "code",
   "execution_count": null,
   "metadata": {},
   "outputs": [],
   "source": []
  },
  {
   "cell_type": "code",
   "execution_count": null,
   "metadata": {},
   "outputs": [],
   "source": []
  },
  {
   "cell_type": "code",
   "execution_count": 2,
   "metadata": {},
   "outputs": [
    {
     "name": "stdout",
     "output_type": "stream",
     "text": [
      "Creating time bins!\n",
      "Done!\n"
     ]
    },
    {
     "name": "stderr",
     "output_type": "stream",
     "text": [
      "/home/niraj/armed_conflict/misc_funcs.py:261: VisibleDeprecationWarning: Creating an ndarray from ragged nested sequences (which is a list-or-tuple of lists-or-tuples-or ndarrays with different lengths or shapes) is deprecated. If you meant to do this, you must specify 'dtype=object' when creating the ndarray\n",
      "  neighbors_arr = np.array(neighbors_list)\n"
     ]
    }
   ],
   "source": [
    "ts = misc_funcs.time_series_all_polygons(64,320,\"battles\")\n",
    "a,b = misc_funcs.avalanche_creation_fast_st(ts,64,320,\"battles\")"
   ]
  },
  {
   "cell_type": "code",
   "execution_count": 3,
   "metadata": {},
   "outputs": [
    {
     "data": {
      "text/plain": [
       "4356"
      ]
     },
     "execution_count": 3,
     "metadata": {},
     "output_type": "execute_result"
    }
   ],
   "source": [
    "len(a)"
   ]
  },
  {
   "cell_type": "code",
   "execution_count": 2,
   "metadata": {},
   "outputs": [
    {
     "name": "stdout",
     "output_type": "stream",
     "text": [
      "Calculating transfer entropy between tiles!\n",
      "Shuffle Number: 0\n",
      "Shuffle Number: 10\n",
      "Shuffle Number: 20\n",
      "Shuffle Number: 30\n",
      "Shuffle Number: 40\n",
      "Shuffle Number: 50\n",
      "Done!\n",
      "Calculating self loop entropies!\n",
      "Shuffle Number: 0\n",
      "Shuffle Number: 10\n",
      "Shuffle Number: 20\n",
      "Shuffle Number: 30\n",
      "Shuffle Number: 40\n",
      "Shuffle Number: 50\n"
     ]
    }
   ],
   "source": [
    "a,b,c = misc_funcs.avalanche_creation_fast_te(64,80,\"battles\",\"data\")"
   ]
  },
  {
   "cell_type": "code",
   "execution_count": 3,
   "metadata": {},
   "outputs": [
    {
     "data": {
      "text/plain": [
       "4052"
      ]
     },
     "execution_count": 3,
     "metadata": {},
     "output_type": "execute_result"
    }
   ],
   "source": [
    "len(a)"
   ]
  },
  {
   "cell_type": "code",
   "execution_count": null,
   "metadata": {},
   "outputs": [],
   "source": []
  },
  {
   "cell_type": "markdown",
   "metadata": {},
   "source": [
    "# Generating avalanches"
   ]
  },
  {
   "cell_type": "code",
   "execution_count": 3,
   "metadata": {},
   "outputs": [],
   "source": [
    "def loop_wrapper_st(args):\n",
    "    dx , time = args\n",
    "    ts = misc_funcs.time_series_all_polygons(time,dx,\"battles\")\n",
    "    a,b = misc_funcs.avalanche_creation_fast_st(ts,time,dx,\"battles\")\n",
    "    return a"
   ]
  },
  {
   "cell_type": "code",
   "execution_count": 2,
   "metadata": {},
   "outputs": [],
   "source": [
    "def loop_wrapper_te(args):\n",
    "    dx , time = args\n",
    "    a,b,c = misc_funcs.avalanche_creation_fast_te(time,dx,\"battles\",\"data\")\n",
    "    return a"
   ]
  },
  {
   "cell_type": "code",
   "execution_count": 5,
   "metadata": {
    "scrolled": true
   },
   "outputs": [
    {
     "name": "stdout",
     "output_type": "stream",
     "text": [
      "Calculating transfer entropy between tiles!\n",
      "Shuffle Number: 0\n",
      "Calculating transfer entropy between tiles!\n",
      "Shuffle Number: 0\n",
      "Calculating transfer entropy between tiles!\n",
      "Shuffle Number: 0\n",
      "Calculating transfer entropy between tiles!\n",
      "Shuffle Number: 0\n",
      "Calculating transfer entropy between tiles!\n",
      "Shuffle Number: 0\n",
      "Calculating transfer entropy between tiles!\n",
      "Calculating transfer entropy between tiles!\n",
      "Shuffle Number: 0\n",
      "Calculating transfer entropy between tiles!\n",
      "Calculating transfer entropy between tiles!\n",
      "Shuffle Number: 0\n",
      "Shuffle Number: 0\n",
      "Shuffle Number: 0\n",
      "Calculating transfer entropy between tiles!\n",
      "Shuffle Number: 0\n",
      "Calculating transfer entropy between tiles!\n",
      "Shuffle Number: 0\n",
      "Calculating transfer entropy between tiles!\n",
      "Calculating transfer entropy between tiles!\n",
      "Shuffle Number: 0\n",
      "Shuffle Number: 0\n",
      "Calculating transfer entropy between tiles!\n",
      "Shuffle Number: 0\n",
      "Calculating transfer entropy between tiles!\n",
      "Shuffle Number: 0\n",
      "Calculating transfer entropy between tiles!\n",
      "Shuffle Number: 0\n",
      "Calculating transfer entropy between tiles!\n",
      "Shuffle Number: 0\n",
      "Shuffle Number: 10\n",
      "Calculating transfer entropy between tiles!\n",
      "Shuffle Number: 0\n",
      "Shuffle Number: 10\n",
      "Shuffle Number: 10\n",
      "Shuffle Number: 10\n",
      "Shuffle Number: 10\n",
      "Shuffle Number: 10\n",
      "Shuffle Number: 10\n",
      "Shuffle Number: 10\n",
      "Shuffle Number: 10\n",
      "Shuffle Number: 20\n",
      "Shuffle Number: 20\n",
      "Shuffle Number: 20\n",
      "Shuffle Number: 20\n",
      "Shuffle Number: 20\n",
      "Shuffle Number: 20\n",
      "Shuffle Number: 20\n",
      "Shuffle Number: 20\n",
      "Shuffle Number: 20\n",
      "Shuffle Number: 10\n",
      "Shuffle Number: 10\n",
      "Shuffle Number: 30\n",
      "Shuffle Number: 30\n",
      "Shuffle Number: 30\n",
      "Shuffle Number: 10\n",
      "Shuffle Number: 10\n",
      "Shuffle Number: 30\n",
      "Shuffle Number: 10\n",
      "Shuffle Number: 30\n",
      "Shuffle Number: 30\n",
      "Shuffle Number: 10\n",
      "Shuffle Number: 30\n",
      "Shuffle Number: 30\n",
      "Shuffle Number: 30\n",
      "Shuffle Number: 10\n",
      "Shuffle Number: 10\n",
      "Shuffle Number: 40\n",
      "Shuffle Number: 40\n",
      "Shuffle Number: 40\n",
      "Shuffle Number: 40\n",
      "Shuffle Number: 10\n",
      "Shuffle Number: 40\n",
      "Shuffle Number:Shuffle Number:  4040\n",
      "\n",
      "Shuffle Number: 40\n",
      "Shuffle Number: 40\n",
      "Shuffle Number: 50\n",
      "Done!\n",
      "Shuffle Number: 50\n",
      "Done!\n",
      "Calculating self loop entropies!\n",
      "Shuffle Number: 0\n",
      "Shuffle Number: 50\n",
      "Done!\n",
      "Calculating self loop entropies!\n",
      "Shuffle Number: 0\n",
      "Shuffle Number: 20\n",
      "Shuffle Number: 50\n",
      "Shuffle Number: 20\n",
      "Shuffle Number: 10\n",
      "Done!\n",
      "Calculating self loop entropies!\n",
      "Shuffle Number: 0\n",
      "Shuffle Number: 50\n",
      "Shuffle Number: 10\n",
      "Done!\n",
      "Shuffle Number: 50\n",
      "Shuffle Number: 50\n",
      "Shuffle Number: 20\n",
      "Shuffle Number: 20\n",
      "Done!\n",
      "Shuffle Number: 50\n",
      "Done!\n",
      "Shuffle Number: 10\n",
      "Shuffle Number: 20\n",
      "Shuffle Number: 50\n",
      "Done!\n",
      "Shuffle Number: 20\n",
      "Done!\n",
      "Calculating self loop entropies!\n",
      "Shuffle Number: 0\n",
      "Calculating self loop entropies!\n",
      "Shuffle Number: 0\n",
      "Shuffle Number: 30\n",
      "Calculating self loop entropies!\n",
      "Shuffle Number: 0\n",
      "Shuffle Number: 30\n",
      "Shuffle Number: 20\n",
      "Calculating self loop entropies!\n",
      "Shuffle Number: 0\n",
      "Calculating self loop entropies!\n",
      "Shuffle Number: 0\n",
      "Shuffle Number: 10\n",
      "Shuffle Number: 40\n",
      "Shuffle Number: 20\n",
      "Shuffle Number: Calculating self loop entropies!30\n",
      "\n",
      "Shuffle Number: 0\n",
      "Shuffle Number: 10\n",
      "Shuffle Number: 40\n",
      "Shuffle Number: 10\n",
      "Shuffle Number: 20\n",
      "Shuffle Number: 50\n",
      "Shuffle Number: 10\n",
      "Shuffle Number: 20\n",
      "Shuffle Number: 40\n",
      "Shuffle Number: 10\n",
      "Shuffle Number: 10\n",
      "Shuffle Number: 20\n",
      "Shuffle Number: 20\n",
      "Shuffle Number: 50\n",
      "Shuffle Number: 20\n",
      "Shuffle Number: 30\n",
      "Shuffle Number: 50\n",
      "Shuffle Number: 30\n",
      "Shuffle Number: 20\n",
      "Shuffle Number: 20\n",
      "Shuffle Number: 20\n",
      "Shuffle Number: 20\n",
      "Shuffle Number: 30\n",
      "Shuffle Number: 30\n",
      "Shuffle Number: 40\n",
      "Shuffle Number: 30\n",
      "Shuffle Number: 40\n",
      "Shuffle Number: 30\n",
      "Shuffle Number: 40\n",
      "Shuffle Number: 20\n",
      "Shuffle Number: 40\n",
      "Shuffle Number: 40\n",
      "Shuffle Number: 50\n",
      "Shuffle Number: 40\n",
      "Shuffle Number: 50\n",
      "Shuffle Number: 50\n",
      "Shuffle Number: 50\n",
      "Shuffle Number: 50\n",
      "Shuffle Number: 30\n",
      "Shuffle Number: 50\n",
      "Shuffle Number: 30\n",
      "Shuffle Number: 30\n",
      "Shuffle Number: 30\n",
      "Shuffle Number: 30\n",
      "Shuffle Number: 30\n",
      "Shuffle Number: 30\n",
      "Shuffle Number: 40\n",
      "Shuffle Number: 30\n",
      "Shuffle Number: 30\n",
      "Shuffle Number: 40\n",
      "Shuffle Number: 40\n",
      "Calculating transfer entropy between tiles!\n",
      "Shuffle Number: 0\n",
      "Calculating transfer entropy between tiles!\n",
      "Shuffle Number: 0\n",
      "Calculating transfer entropy between tiles!\n",
      "Shuffle Number: 0\n",
      "Shuffle Number: 40\n",
      "Calculating transfer entropy between tiles!\n",
      "Shuffle Number: 0\n",
      "Calculating transfer entropy between tiles!\n",
      "Shuffle Number: 0\n",
      "Shuffle Number: 40\n",
      "Calculating transfer entropy between tiles!\n",
      "Calculating transfer entropy between tiles!\n",
      "Shuffle Number: 0\n",
      "Shuffle Number: 0\n",
      "Shuffle Number: 40\n",
      "Shuffle Number: 40\n",
      "Shuffle Number: 50\n",
      "Done!\n",
      "Shuffle Number: 50\n",
      "Shuffle Number: 50\n",
      "Done!\n",
      "Done!\n",
      "Calculating transfer entropy between tiles!\n",
      "Shuffle Number: 0\n",
      "Shuffle Number: 40\n",
      "Shuffle Number: 40\n",
      "Shuffle Number: 50\n",
      "Calculating self loop entropies!\n",
      "Calculating self loop entropies!\n",
      "Shuffle Number: 0\n",
      "Shuffle Number: 0\n",
      "Calculating self loop entropies!\n",
      "Shuffle Number: 0\n",
      "Done!\n",
      "Shuffle Number: 50\n",
      "Done!\n",
      "Shuffle Number: 50\n",
      "Calculating transfer entropy between tiles!\n",
      "Shuffle Number: 0\n",
      "Shuffle Number: 50\n",
      "Shuffle Number: 10\n",
      "Calculating self loop entropies!\n",
      "Shuffle Number: 0\n",
      "Done!\n",
      "Shuffle Number: 10\n",
      "Done!\n",
      "Shuffle Number: 10\n",
      "Calculating self loop entropies!\n",
      "Shuffle Number: 0\n",
      "Shuffle Number: 20\n",
      "Calculating self loop entropies!\n",
      "Shuffle Number: 0\n",
      "Calculating self loop entropies!\n",
      "Shuffle Number: 0\n",
      "Shuffle Number: 10\n",
      "Shuffle Number: 20\n",
      "Shuffle Number: 10\n",
      "Shuffle Number: 20\n",
      "Shuffle Number: 50\n",
      "Shuffle Number: 50\n",
      "Shuffle Number: 30\n",
      "Shuffle Number: 10\n",
      "Done!\n",
      "Done!\n",
      "Shuffle Number: 20\n",
      "Shuffle Number: 10\n",
      "Shuffle Number: 10\n",
      "Shuffle Number: 10\n",
      "Shuffle Number: 30\n",
      "Shuffle Number: 10\n",
      "Shuffle Number: 30\n",
      "Shuffle Number: 20\n",
      "Shuffle Number: 10\n",
      "Shuffle Number: 30\n",
      "Calculating self loop entropies!\n",
      "Calculating self loop entropies!\n",
      "Shuffle Number: 0\n",
      "Shuffle Number: 0\n",
      "Shuffle Number: 10\n",
      "Shuffle Number: 10\n",
      "Shuffle Number: 10\n",
      "Shuffle Number: 40\n",
      "Shuffle Number: 20\n",
      "Shuffle Number: 20\n",
      "Shuffle Number: 40\n",
      "Shuffle Number: 40\n",
      "Shuffle Number: 40\n",
      "Shuffle Number: 30\n",
      "Shuffle Number: 10\n",
      "Shuffle Number: 50\n",
      "Shuffle Number: 30\n",
      "Shuffle Number: 10\n",
      "Shuffle Number: 10\n",
      "Shuffle Number: 50\n",
      "Shuffle Number: 50\n",
      "Shuffle Number: 30\n",
      "Shuffle Number: 20\n",
      "Shuffle Number: 40\n",
      "Shuffle Number: 50\n",
      "Shuffle Number: 40\n",
      "Shuffle Number: 20\n",
      "Shuffle Number: 30\n",
      "Shuffle Number: 50\n",
      "Shuffle Number: 40\n",
      "Shuffle Number: 50\n",
      "Shuffle Number: 40\n",
      "Shuffle Number: 30\n",
      "Shuffle Number: 10\n",
      "Shuffle Number: 20\n",
      "Shuffle Number: 50\n",
      "Shuffle Number: 50\n",
      "Shuffle Number: 20\n",
      "Shuffle Number: 20\n",
      "Shuffle Number: 40\n",
      "Shuffle Number: 20\n",
      "Shuffle Number: 20\n",
      "Shuffle Number: 20\n",
      "Shuffle Number: 50\n",
      "Shuffle Number: 20\n",
      "Shuffle Number: 20\n",
      "Shuffle Number: 30\n",
      "Shuffle Number: 30\n",
      "Calculating transfer entropy between tiles!\n",
      "Calculating transfer entropy between tiles!\n",
      "Shuffle Number: 0\n",
      "Shuffle Number: 20\n",
      "Shuffle Number: 30\n",
      "Shuffle Number: 0\n",
      "Calculating transfer entropy between tiles!\n",
      "Shuffle Number: 30\n",
      "Shuffle Number: 30\n",
      "Calculating transfer entropy between tiles!\n",
      "Shuffle Number: 30\n",
      "Shuffle Number: 0\n",
      "Shuffle Number: 0\n",
      "Shuffle Number: 30\n",
      "Calculating transfer entropy between tiles!\n",
      "Shuffle Number: 0\n",
      "Calculating transfer entropy between tiles!\n",
      "Shuffle Number: 0\n",
      "Shuffle Number: 30\n",
      "Shuffle Number: 40\n",
      "Shuffle Number: 40\n",
      "Shuffle Number: 40\n",
      "Shuffle Number: 40\n",
      "Shuffle Number: 40\n",
      "Shuffle Number: 40\n",
      "Shuffle Number: 40\n",
      "Calculating transfer entropy between tiles!\n",
      "Shuffle Number: 30\n",
      "Shuffle Number: 0\n",
      "Shuffle Number: 40\n",
      "Shuffle Number: 10\n",
      "Shuffle Number: 10\n",
      "Shuffle Number: 10\n",
      "Shuffle Number: 50\n",
      "Calculating transfer entropy between tiles!\n",
      "Shuffle Number: 0\n",
      "Done!\n",
      "Shuffle Number: 10\n",
      "Shuffle Number: 50\n",
      "Shuffle Number: 10\n",
      "Shuffle Number: 50\n",
      "Shuffle Number: 50\n",
      "Shuffle Number: 50\n",
      "Done!\n",
      "Shuffle Number: 50\n",
      "Done!\n",
      "Done!\n",
      "Done!\n",
      "Shuffle Number: 50\n",
      "Done!\n",
      "Done!\n",
      "Shuffle Number: 40\n",
      "Shuffle Number: 10\n",
      "Calculating self loop entropies!\n",
      "Shuffle Number: 0\n",
      "Shuffle Number: 50\n",
      "Calculating self loop entropies!\n",
      "Shuffle Number: 0\n",
      "Calculating self loop entropies!\n",
      "Calculating self loop entropies!\n",
      "Shuffle Number: 0\n",
      "Shuffle Number: 0\n",
      "Calculating self loop entropies!\n",
      "Shuffle Number: 0\n",
      "Calculating self loop entropies!\n",
      "Done!\n",
      "Shuffle Number: 0\n",
      "Calculating self loop entropies!\n",
      "Shuffle Number: 0\n",
      "Calculating transfer entropy between tiles!\n",
      "Shuffle Number: 0\n",
      "Calculating self loop entropies!\n",
      "Shuffle Number: 0\n",
      "Shuffle Number: 10\n",
      "Shuffle Number: 20\n",
      "Shuffle Number: 20\n",
      "Shuffle Number: 10\n",
      "Shuffle Number: 10\n",
      "Shuffle Number: 10\n",
      "Shuffle Number: 10\n",
      "Shuffle Number: 10\n",
      "Shuffle Number: 20\n",
      "Shuffle Number: 10\n",
      "Shuffle Number: 20\n",
      "Shuffle Number: 50\n",
      "Shuffle Number: 10\n",
      "Shuffle Number: 20\n",
      "Done!\n",
      "Shuffle Number: 10\n",
      "Shuffle Number: 10\n",
      "Shuffle Number: 20\n",
      "Shuffle Number: 20\n",
      "Shuffle Number: 20\n",
      "Shuffle Number: 20\n",
      "Shuffle Number: 20\n",
      "Shuffle Number: 20\n",
      "Calculating self loop entropies!\n",
      "Shuffle Number: 0\n",
      "Shuffle Number: 20\n",
      "Shuffle Number: 20\n",
      "Shuffle Number: 10\n",
      "Shuffle Number: 30\n",
      "Shuffle Number: 30\n",
      "Shuffle Number: 30\n",
      "Shuffle Number: 30\n",
      "Shuffle Number: 30\n",
      "Shuffle Number: 30\n",
      "Shuffle Number: 30\n",
      "Shuffle Number: 20\n",
      "Shuffle Number: 10\n",
      "Shuffle Number: 20\n",
      "Shuffle Number: 30\n",
      "Shuffle Number: 30\n",
      "Shuffle Number: 30\n",
      "Shuffle Number: 20\n",
      "Shuffle Number: 30\n",
      "Shuffle Number: 30\n",
      "Shuffle Number: 30\n",
      "Shuffle Number: 40\n",
      "Shuffle Number: 40\n",
      "Shuffle Number: 40\n",
      "Shuffle Number: 40\n",
      "Shuffle Number: 40\n",
      "Shuffle Number: 30\n",
      "Shuffle Number: 20\n",
      "Shuffle Number: 40\n",
      "Shuffle Number: 50\n",
      "Shuffle Number: 40\n",
      "Shuffle Number: 50\n",
      "Shuffle Number: 40\n",
      "Shuffle Number: 40\n",
      "Shuffle Number: 20\n",
      "Shuffle Number: 50\n",
      "Shuffle Number: 50\n",
      "Shuffle Number: 50\n",
      "Shuffle Number: 40\n",
      "Shuffle Number: 30\n",
      "Shuffle Number: 40\n",
      "Shuffle Number: 30\n",
      "Shuffle Number: 40\n",
      "Shuffle Number: 30\n",
      "Shuffle Number: 40\n",
      "Shuffle Number: 40\n",
      "Shuffle Number: 50\n",
      "Shuffle Number: 50\n",
      "Shuffle Number: 50\n",
      "Shuffle Number: 50\n",
      "Shuffle Number: 40\n",
      "Done!\n",
      "Shuffle Number: 50\n",
      "Done!\n",
      "Shuffle Number: 50\n",
      "Shuffle Number: 40\n",
      "Shuffle Number: 30\n",
      "Done!\n",
      "Shuffle Number: 50\n",
      "Shuffle Number: 50\n",
      "Shuffle Number: 50\n",
      "Done!\n",
      "Shuffle Number: 40\n",
      "Done!\n",
      "Shuffle Number: 50\n",
      "Done!\n",
      "Calculating self loop entropies!\n",
      "Shuffle Number: 0\n",
      "Calculating self loop entropies!\n",
      "Shuffle Number: 0\n",
      "Shuffle Number: 50\n",
      "Calculating self loop entropies!\n",
      "Shuffle Number: 0\n",
      "Done!\n",
      "Shuffle Number: 40\n",
      "Calculating self loop entropies!\n",
      "Shuffle Number: 0\n",
      "Calculating self loop entropies!\n",
      "Shuffle Number: 0\n",
      "Shuffle Number: 50\n",
      "Done!\n",
      "Calculating self loop entropies!\n",
      "Shuffle Number: 0\n",
      "Calculating self loop entropies!\n",
      "Shuffle Number: 0\n",
      "Shuffle Number: 50\n",
      "Calculating self loop entropies!\n",
      "Shuffle Number: 0\n",
      "Done!\n",
      "Calculating self loop entropies!\n",
      "Shuffle Number: 0\n",
      "Shuffle Number: 10\n",
      "Shuffle Number: 10\n",
      "Shuffle Number: 10\n",
      "Shuffle Number: 10\n",
      "Shuffle Number: 10\n",
      "Shuffle Number: 10\n",
      "Shuffle Number: 10\n",
      "Shuffle Number: 10\n",
      "Shuffle Number: 10\n",
      "Shuffle Number: 20\n",
      "Shuffle Number: 20\n",
      "Shuffle Number: 20\n",
      "Shuffle Number: 20\n",
      "Shuffle Number: 20\n",
      "Shuffle Number: 20\n",
      "Shuffle Number: 20\n",
      "Shuffle Number: 20\n",
      "Shuffle Number: 20\n",
      "Shuffle Number: 30\n",
      "Shuffle Number: 30\n",
      "Shuffle Number: 30\n",
      "Shuffle Number: 30\n",
      "Shuffle Number: 30\n",
      "Shuffle Number: 30\n",
      "Shuffle Number: 30\n",
      "Shuffle Number: 30\n",
      "Shuffle Number: 30\n",
      "Shuffle Number: 40\n",
      "Shuffle Number: 40\n",
      "Shuffle Number: 40\n",
      "Shuffle Number: 40\n",
      "Shuffle Number: 40\n",
      "Shuffle Number: 40\n",
      "Shuffle Number: 40\n",
      "Shuffle Number: 40\n",
      "Shuffle Number: 40\n",
      "Shuffle Number: 50\n",
      "Shuffle Number: 50\n",
      "Shuffle Number: 50\n",
      "Shuffle Number: 50\n",
      "Shuffle Number: 50\n",
      "Shuffle Number: 50\n",
      "Shuffle Number: 50\n",
      "Shuffle Number: 50\n",
      "Shuffle Number: 50\n"
     ]
    }
   ],
   "source": [
    "with Pool(18) as pool:\n",
    "    output = list(pool.map(loop_wrapper_te , product([80,160,320,640],[2,4,8,16,32,64,128,256,512])))"
   ]
  },
  {
   "cell_type": "code",
   "execution_count": 6,
   "metadata": {},
   "outputs": [],
   "source": [
    "dx_time = list(product([80,160,320,640],[2,4,8,16,32,64,128,256,512]))"
   ]
  },
  {
   "cell_type": "code",
   "execution_count": 7,
   "metadata": {},
   "outputs": [],
   "source": [
    "for i in range(len(dx_time)):\n",
    "    ava_list = output[i]\n",
    "    \n",
    "    with open(f\"avalanches/battles/te/te_ava_box_{dx_time[i][1]}_{dx_time[i][0]}.csv\",\"w\") as f:\n",
    "        wr = csv.writer(f)\n",
    "        wr.writerows(output[i])"
   ]
  },
  {
   "cell_type": "markdown",
   "metadata": {},
   "source": [
    "## Box to Event ava conversion"
   ]
  },
  {
   "cell_type": "code",
   "execution_count": 17,
   "metadata": {},
   "outputs": [],
   "source": [
    "type_of_algo = \"st\"\n",
    "\n",
    "def box_to_event(args):\n",
    "    dx , time = args\n",
    "    \n",
    "    box_path = f\"avalanches/battles/{type_of_algo}/{type_of_algo}_ava_box_{str(time)}_{str(dx)}.csv\"\n",
    "    box_ava = misc_funcs.extract_box_ava_from_file(box_path)\n",
    "    \n",
    "    ts_FG = pd.read_csv(f\"generated_data/battles/FG_time_series/time_series_1_{str(dx)}.csv\")\n",
    "    data_bin = misc_funcs.data_bin_extracter(ts_FG,time)\n",
    "    \n",
    "    event_ava = misc_funcs.boxAva_to_eventAva(box_ava,data_bin)\n",
    "    \n",
    "    return event_ava"
   ]
  },
  {
   "cell_type": "code",
   "execution_count": 18,
   "metadata": {},
   "outputs": [],
   "source": [
    "with Pool(18) as pool:\n",
    "    output = list(pool.map(box_to_event , product([80,160,320,640],[2,4,8,16,32,64,128,256,512])))"
   ]
  },
  {
   "cell_type": "code",
   "execution_count": 19,
   "metadata": {},
   "outputs": [],
   "source": [
    "dx_time = list(product([80,160,320,640],[2,4,8,16,32,64,128,256,512]))"
   ]
  },
  {
   "cell_type": "code",
   "execution_count": 20,
   "metadata": {},
   "outputs": [],
   "source": [
    "for i in range(len(dx_time)):\n",
    "    ava_list = output[i]\n",
    "    \n",
    "    with open(f\"avalanches/battles/{type_of_algo}/{type_of_algo}_ava_event_{dx_time[i][1]}_{dx_time[i][0]}.csv\",\"w\") as f:\n",
    "        wr = csv.writer(f)\n",
    "        wr.writerows(output[i])"
   ]
  },
  {
   "cell_type": "code",
   "execution_count": null,
   "metadata": {},
   "outputs": [],
   "source": []
  },
  {
   "cell_type": "markdown",
   "metadata": {},
   "source": [
    "## Analysis"
   ]
  },
  {
   "cell_type": "code",
   "execution_count": 27,
   "metadata": {},
   "outputs": [],
   "source": [
    "time = 64\n",
    "dx = 320\n",
    "type_of_algo = \"te\"\n",
    "conflict_type = \"battles\""
   ]
  },
  {
   "cell_type": "code",
   "execution_count": 28,
   "metadata": {},
   "outputs": [],
   "source": [
    "event_path = f\"avalanches/battles/{type_of_algo}/{type_of_algo}_ava_event_{str(time)}_{str(dx)}.csv\"\n",
    "avalanche_data = misc_funcs.ava_numbering(time,dx,conflict_type,event_path)"
   ]
  },
  {
   "cell_type": "code",
   "execution_count": null,
   "metadata": {},
   "outputs": [],
   "source": []
  },
  {
   "cell_type": "code",
   "execution_count": 30,
   "metadata": {},
   "outputs": [
    {
     "name": "stdout",
     "output_type": "stream",
     "text": [
      "f/r/du/s/di: f\n"
     ]
    }
   ],
   "source": [
    "parameter_of_interest = input(\"f/r/du/s/di: \" )\n",
    "\n",
    "if(parameter_of_interest == \"f\"):\n",
    "    dt = ava_parameter_functions.fatalities(avalanche_data) #For getting frequency distribution\n",
    "    xlabel = \"Fatalities\"\n",
    "elif(parameter_of_interest == \"r\"):\n",
    "    dt = ava_parameter_functions.reports(avalanche_data) #For getting frequency distribution\n",
    "    xlabel = \"Reports\"\n",
    "elif(parameter_of_interest == \"du\"):\n",
    "    dt = ava_parameter_functions.duration(avalanche_data) #For getting frequency distribution\n",
    "    xlabel = \"Duration\"\n",
    "elif(parameter_of_interest == \"s\"):\n",
    "    dt = ava_parameter_functions.sites(avalanche_data) #For getting frequency distribution\n",
    "    xlabel = \"Sites\"\n",
    "elif(parameter_of_interest == \"di\"):\n",
    "    diameter_type = input(\"centers(c)/events(e): \")\n",
    "    cen = []\n",
    "    for i in range(len(polygons)):\n",
    "        centroid = Point(polygons[\"geometry\"].iloc[i].centroid.coords)\n",
    "        cen.append(centroid)\n",
    "    centers = gpd.GeoSeries(cen)\n",
    "    if(diameter_type == \"c\"):\n",
    "        xlabel = \"Diameter (Using Centers)\"\n",
    "        dt = ava_parameter_functions.diameter_centers(avalanche_data,centers)\n",
    "    elif(diameter_type == \"e\"):\n",
    "        xlabel = \"Diameter (Using event distance)\"\n",
    "        dt = ava_parameter_functions.diameter_events(avalanche_data,centers,data)"
   ]
  },
  {
   "cell_type": "code",
   "execution_count": 31,
   "metadata": {},
   "outputs": [
    {
     "data": {
      "text/plain": [
       "Text(0.5, 1.0, '64,320')"
      ]
     },
     "execution_count": 31,
     "metadata": {},
     "output_type": "execute_result"
    },
    {
     "data": {
      "image/png": "[encoded data removed]",
      "text/plain": [
       "<Figure size 432x288 with 1 Axes>"
      ]
     },
     "metadata": {
      "needs_background": "light"
     },
     "output_type": "display_data"
    }
   ],
   "source": [
    "#For discrete quantities\n",
    "\n",
    "dt1 = np.bincount(dt)      #For getting frequency distribution\n",
    "dt1 = dt1/dt1.sum()             #For Normalization\n",
    "dt1[dt1 == 0] = np.nan\n",
    "dt1 = pd.DataFrame(dt1)\n",
    "dt1 = dt1.cumsum(skipna=True)           #To get commulaative distribution\n",
    "dt1 = (1-dt1)                    #To get complimentary commulative distribution\n",
    "dt1 = dt1[0]\n",
    "\n",
    "plt.scatter(np.arange(1 , dt1.size-1) , dt1[1:-1] , marker='.')\n",
    "ax = plt.gca()\n",
    "ax.set_xscale('log')\n",
    "ax.set_yscale('log')\n",
    "ax.set_ylim([10**-4 , 10**0])\n",
    "ax.set_xlim([10**0 , 10**4])\n",
    "\n",
    "plt.xticks(fontsize= 20)\n",
    "plt.yticks(fontsize= 20)\n",
    "\n",
    "plt.xlabel(xlabel , fontsize=20)\n",
    "plt.ylabel(\"1-CDF\" , fontsize=20)\n",
    "\n",
    "plt.title(f\"{str(time)},{str(dx)}\")\n",
    "\n",
    "#plt.savefig(f\"{conflict_type}_{parameter_of_interest}_{str(dx)}_{str(time)}.png\")\n",
    "\n",
    "#plt.xscale(\"linear\")\n",
    "#plt.yscale(\"linear\")\n",
    "#plt.xlim((0,max(dt)))"
   ]
  },
  {
   "cell_type": "code",
   "execution_count": 32,
   "metadata": {},
   "outputs": [
    {
     "data": {
      "text/plain": [
       "(1.7346061870018716, 9, 0.025676316103683594)"
      ]
     },
     "execution_count": 32,
     "metadata": {},
     "output_type": "execute_result"
    },
    {
     "data": {
      "image/png": "[encoded data removed]",
      "text/plain": [
       "<Figure size 432x288 with 1 Axes>"
      ]
     },
     "metadata": {
      "needs_background": "light"
     },
     "output_type": "display_data"
    }
   ],
   "source": [
    "alpha,xmin,ks = power_law_func.power_law_fitting_discrete(time, dx, dt, xlabel , \"y\" , \"n\")\n",
    "#plt.ylim([0,1])\n",
    "alpha,xmin,ks"
   ]
  },
  {
   "cell_type": "code",
   "execution_count": null,
   "metadata": {},
   "outputs": [],
   "source": []
  },
  {
   "cell_type": "code",
   "execution_count": null,
   "metadata": {},
   "outputs": [],
   "source": [
    "#For continous quantities\n",
    "\n",
    "dt1 = dt[dt != 0]\n",
    "dt1 = np.unique(dt1)\n",
    "dt1 = np.array(dt1)\n",
    "x = np.sort(dt1)\n",
    "y = 1 - (np.arange(len(dt1)) / float(len(dt1)))\n",
    "\n",
    "#plt.scatter(np.log(np.arange(dt.size)) , np.log(dt) , marker='.')\n",
    "\n",
    "plt.scatter(x , y , marker='.')\n",
    "ax = plt.gca()\n",
    "ax.set_xscale('log')\n",
    "ax.set_yscale('log')\n",
    "\n",
    "#ax.set_ylim([10**-4 , 10**0])\n",
    "#ax.set_xlim([10**0 , 10**4])\n",
    "\n",
    "plt.xticks(fontsize= 20)\n",
    "plt.yticks(fontsize= 20)\n",
    "\n",
    "plt.xlabel(xlabel , fontsize=20)\n",
    "plt.ylabel(\"1-CDF\" , fontsize=20)\n",
    "\n",
    "plt.title(f\"{str(time)},{str(dx)}\")\n",
    "\n",
    "#plt.savefig(f\"{conflict_type}_{parameter_of_interest}_{str(dx)}_{str(time)}.png\")"
   ]
  },
  {
   "cell_type": "code",
   "execution_count": null,
   "metadata": {},
   "outputs": [],
   "source": [
    "power_law_func.power_law_fitting_continuous(time , dx , dt,xlabel , \"y\" , \"n\")\n",
    "#plt.ylim([0,1])"
   ]
  },
  {
   "cell_type": "code",
   "execution_count": null,
   "metadata": {},
   "outputs": [],
   "source": []
  },
  {
   "cell_type": "code",
   "execution_count": null,
   "metadata": {},
   "outputs": [],
   "source": []
  },
  {
   "cell_type": "code",
   "execution_count": null,
   "metadata": {},
   "outputs": [],
   "source": []
  }
 ],
 "metadata": {
  "kernelspec": {
   "display_name": "Python 3",
   "language": "python",
   "name": "python3"
  },
  "language_info": {
   "codemirror_mode": {
    "name": "ipython",
    "version": 3
   },
   "file_extension": ".py",
   "mimetype": "text/x-python",
   "name": "python",
   "nbconvert_exporter": "python",
   "pygments_lexer": "ipython3",
   "version": "3.8.3"
  }
 },
 "nbformat": 4,
 "nbformat_minor": 4
}
