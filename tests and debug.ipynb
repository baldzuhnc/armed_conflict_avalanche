{
 "cells": [
  {
   "cell_type": "code",
   "execution_count": 1,
   "metadata": {},
   "outputs": [],
   "source": [
    "import pandas as pd\n",
    "import numpy as np\n",
    "\n",
    "import misc_funcs\n",
    "import data\n",
    "\n",
    "import csv"
   ]
  },
  {
   "cell_type": "code",
   "execution_count": 7,
   "metadata": {},
   "outputs": [],
   "source": [
    "#No need to run this again. The output is saved in conflict_positions.\n",
    "\n",
    "#misc_funcs.conflict_position(\"battles\")"
   ]
  },
  {
   "cell_type": "code",
   "execution_count": 9,
   "metadata": {},
   "outputs": [],
   "source": [
    "#No need to run this again. The output is saved in event_mappings.\n",
    "\n",
    "#a = misc_funcs.conflict_event_polygon_mapping(640,\"battles\",29)"
   ]
  },
  {
   "cell_type": "code",
   "execution_count": 14,
   "metadata": {},
   "outputs": [],
   "source": [
    "#No need to run this again. The output is saved in 80/160/320/640.\n",
    "\n",
    "#misc_funcs.single_tile_events(640,\"battles\")"
   ]
  },
  {
   "cell_type": "code",
   "execution_count": 13,
   "metadata": {},
   "outputs": [],
   "source": [
    "#No need to run this again. The output is saved in FG_time_series.\n",
    "\n",
    "#dx = 640\n",
    "#ts = misc_funcs.time_series_all_polygons(1,dx,\"battles\")\n",
    "#ts.to_csv(f\"generated_data/battles/FG_time_series/time_series_1_{str(dx)}.csv\" , index=False)"
   ]
  },
  {
   "cell_type": "code",
   "execution_count": null,
   "metadata": {},
   "outputs": [],
   "source": []
  },
  {
   "cell_type": "code",
   "execution_count": null,
   "metadata": {},
   "outputs": [],
   "source": []
  },
  {
   "cell_type": "code",
   "execution_count": null,
   "metadata": {},
   "outputs": [],
   "source": []
  },
  {
   "cell_type": "code",
   "execution_count": null,
   "metadata": {},
   "outputs": [],
   "source": []
  },
  {
   "cell_type": "code",
   "execution_count": null,
   "metadata": {},
   "outputs": [],
   "source": []
  },
  {
   "cell_type": "code",
   "execution_count": 2,
   "metadata": {},
   "outputs": [
    {
     "name": "stdout",
     "output_type": "stream",
     "text": [
      "Creating time bins!\n",
      "Done!\n"
     ]
    },
    {
     "name": "stderr",
     "output_type": "stream",
     "text": [
      "/home/niraj/armed_conflict/misc_funcs.py:261: VisibleDeprecationWarning: Creating an ndarray from ragged nested sequences (which is a list-or-tuple of lists-or-tuples-or ndarrays with different lengths or shapes) is deprecated. If you meant to do this, you must specify 'dtype=object' when creating the ndarray\n",
      "  neighbors_arr = np.array(neighbors_list)\n"
     ]
    }
   ],
   "source": [
    "ts = misc_funcs.time_series_all_polygons(64,320,\"battles\")\n",
    "a,b = misc_funcs.avalanche_creation_fast_st(ts,64,320,\"battles\")"
   ]
  },
  {
   "cell_type": "code",
   "execution_count": 3,
   "metadata": {},
   "outputs": [
    {
     "data": {
      "text/plain": [
       "4356"
      ]
     },
     "execution_count": 3,
     "metadata": {},
     "output_type": "execute_result"
    }
   ],
   "source": [
    "len(a)"
   ]
  },
  {
   "cell_type": "code",
   "execution_count": 8,
   "metadata": {},
   "outputs": [
    {
     "name": "stdout",
     "output_type": "stream",
     "text": [
      "Calculating transfer entropy between tiles!\n",
      "Shuffle Number: 0\n",
      "Shuffle Number: 10\n",
      "Shuffle Number: 20\n",
      "Shuffle Number: 30\n",
      "Shuffle Number: 40\n",
      "Shuffle Number: 50\n",
      "Done!\n",
      "Calculating self loop entropies!\n",
      "Shuffle Number: 0\n",
      "Shuffle Number: 10\n",
      "Shuffle Number: 20\n",
      "Shuffle Number: 30\n",
      "Shuffle Number: 40\n",
      "Shuffle Number: 50\n"
     ]
    }
   ],
   "source": [
    "a,b,c = misc_funcs.avalanche_creation_fast_te(64,320,\"battles\",\"data\")"
   ]
  },
  {
   "cell_type": "code",
   "execution_count": 9,
   "metadata": {},
   "outputs": [
    {
     "data": {
      "text/plain": [
       "12766"
      ]
     },
     "execution_count": 9,
     "metadata": {},
     "output_type": "execute_result"
    }
   ],
   "source": [
    "len(a)"
   ]
  },
  {
   "cell_type": "code",
   "execution_count": null,
   "metadata": {},
   "outputs": [],
   "source": []
  },
  {
   "cell_type": "code",
   "execution_count": null,
   "metadata": {},
   "outputs": [],
   "source": []
  },
  {
   "cell_type": "code",
   "execution_count": 2,
   "metadata": {},
   "outputs": [
    {
     "data": {
      "text/plain": [
       "32"
      ]
     },
     "execution_count": 2,
     "metadata": {},
     "output_type": "execute_result"
    }
   ],
   "source": [
    "from multiprocess import Pool,cpu_count\n",
    "from itertools import product\n",
    "\n",
    "cpu_count()"
   ]
  },
  {
   "cell_type": "code",
   "execution_count": 3,
   "metadata": {},
   "outputs": [],
   "source": [
    "def loop_wrapper_st(args):\n",
    "    dx , time = args\n",
    "    ts = misc_funcs.time_series_all_polygons(time,dx,\"battles\")\n",
    "    a,b = misc_funcs.avalanche_creation_fast_st(ts,time,dx,\"battles\")\n",
    "    return a"
   ]
  },
  {
   "cell_type": "code",
   "execution_count": 7,
   "metadata": {},
   "outputs": [],
   "source": [
    "def loop_wrapper_te(args):\n",
    "    dx , time = args\n",
    "    a,b,c = misc_funcs.avalanche_creation_fast_te(time,dx,\"battles\",\"data\")\n",
    "    return a"
   ]
  },
  {
   "cell_type": "code",
   "execution_count": null,
   "metadata": {},
   "outputs": [],
   "source": []
  },
  {
   "cell_type": "code",
   "execution_count": null,
   "metadata": {
    "scrolled": true
   },
   "outputs": [
    {
     "name": "stdout",
     "output_type": "stream",
     "text": [
      "Calculating transfer entropy between tiles!\n",
      "Shuffle Number: 0\n",
      "Calculating transfer entropy between tiles!\n",
      "Shuffle Number: 0\n",
      "Calculating transfer entropy between tiles!\n",
      "Calculating transfer entropy between tiles!\n",
      "Shuffle Number: 0\n",
      "Shuffle Number: 0\n",
      "Calculating transfer entropy between tiles!\n",
      "Calculating transfer entropy between tiles!\n",
      "Shuffle Number: 0\n",
      "Shuffle Number: 0\n",
      "Calculating transfer entropy between tiles!\n",
      "Shuffle Number: 0\n",
      "Calculating transfer entropy between tiles!\n",
      "Calculating transfer entropy between tiles!\n",
      "Shuffle Number: 0\n",
      "Shuffle Number: 0\n",
      "Calculating transfer entropy between tiles!\n",
      "Shuffle Number: Calculating transfer entropy between tiles!0\n",
      "\n",
      "Shuffle Number: 0\n",
      "Calculating transfer entropy between tiles!\n",
      "Shuffle Number: 0\n",
      "Calculating transfer entropy between tiles!\n",
      "Shuffle Number: 0\n",
      "Calculating transfer entropy between tiles!\n",
      "Shuffle Number: 0\n",
      "Calculating transfer entropy between tiles!\n",
      "Shuffle Number: 0\n",
      "Calculating transfer entropy between tiles!\n",
      "Shuffle Number: 0\n",
      "Shuffle Number: 10\n",
      "Shuffle Number: 10\n",
      "Shuffle Number: 10\n",
      "Shuffle Number: 10\n",
      "Calculating transfer entropy between tiles!\n",
      "Shuffle Number: 0\n",
      "Shuffle Number: 10\n",
      "Shuffle Number: 10\n",
      "Shuffle Number: 10\n",
      "Shuffle Number: 10\n",
      "Shuffle Number: 20\n",
      "Shuffle Number: 20\n",
      "Shuffle Number: 20\n",
      "Shuffle Number: 20\n",
      "Shuffle Number: 20\n",
      "Shuffle Number: 20\n",
      "Shuffle Number: 20\n",
      "Shuffle Number: 30\n",
      "Shuffle Number: 10\n",
      "Shuffle Number: 10\n",
      "Shuffle Number: 30\n",
      "Shuffle Number: 20\n",
      "Shuffle Number: 30\n",
      "Shuffle Number: 10\n",
      "Shuffle Number: 10\n",
      "Shuffle Number: 30\n",
      "Shuffle Number: 10\n",
      "Shuffle Number: 30\n",
      "Shuffle Number: 10\n",
      "Shuffle Number: 30\n",
      "Shuffle Number: 10\n",
      "Shuffle Number: 30\n",
      "Shuffle Number: 40\n",
      "Shuffle Number: 40\n",
      "Shuffle Number: 40\n",
      "Shuffle Number: 40\n",
      "Shuffle Number: 40\n",
      "Shuffle Number: 10\n",
      "Shuffle Number: 30\n",
      "Shuffle Number: 40\n",
      "Shuffle Number: 50\n",
      "Shuffle Number: 40\n",
      "Shuffle Number: 10\n",
      "Done!\n",
      "Shuffle Number: 50\n",
      "Shuffle Number: 50\n",
      "Done!\n",
      "Done!\n",
      "Calculating self loop entropies!\n",
      "Shuffle Number: 0\n",
      "Shuffle Number: 50\n",
      "Done!\n",
      "Calculating self loop entropies!\n",
      "Shuffle Number: 0\n",
      "Calculating self loop entropies!\n",
      "Shuffle Number: 0\n",
      "Shuffle Number: 10\n",
      "Shuffle Number: 40\n",
      "Calculating self loop entropies!\n",
      "Shuffle Number: 0\n",
      "Shuffle Number: 50\n",
      "Shuffle Number: 10\n",
      "Shuffle Number: 20\n",
      "Shuffle Number: 50\n",
      "Shuffle Number: 20\n",
      "Shuffle Number: 20\n",
      "Done!\n",
      "Shuffle Number: 10\n",
      "Done!\n",
      "Shuffle Number: 20\n",
      "Shuffle Number: 20\n",
      "Shuffle Number: 20\n",
      "Shuffle Number: 10\n",
      "Shuffle Number: 20\n",
      "Shuffle Number:Shuffle Number:  5020\n",
      "\n",
      "Shuffle Number: 30\n",
      "Calculating self loop entropies!\n",
      "Shuffle Number: 0\n",
      "Done!\n",
      "Shuffle Number: 30\n",
      "Shuffle Number: 20\n",
      "Shuffle Number: 30\n",
      "Shuffle Number: 20\n",
      "Shuffle Number: 10\n",
      "Shuffle Number: 40\n",
      "Calculating self loop entropies!\n",
      "Shuffle Number: 0\n",
      "Calculating self loop entropies!\n",
      "Shuffle Number: 0\n",
      "Shuffle Number: 40\n",
      "Shuffle Number: 30\n",
      "Shuffle Number: 50\n",
      "Shuffle Number: 40\n",
      "Done!\n",
      "Shuffle Number: 50\n",
      "Shuffle Number: 50\n",
      "Shuffle Number: 10\n",
      "Shuffle Number: 20\n",
      "Shuffle Number: 40\n",
      "Shuffle Number: 10\n",
      "Shuffle Number: 50\n",
      "Shuffle Number: 20\n",
      "Calculating self loop entropies!\n",
      "Shuffle Number: 0\n",
      "Shuffle Number: 20\n",
      "Shuffle Number: 50\n",
      "Shuffle Number: 20\n",
      "Shuffle Number: 20\n",
      "Shuffle Number: 30\n",
      "Shuffle Number: 10\n",
      "Shuffle Number: 30\n",
      "Shuffle Number: 30\n",
      "Shuffle Number: 20\n",
      "Shuffle Number: 40\n",
      "Shuffle Number: 40\n",
      "Shuffle Number: 40\n",
      "Shuffle Number: 30\n",
      "Shuffle Number: 50\n",
      "Shuffle Number: 50\n",
      "Shuffle Number: 50\n",
      "Shuffle Number: 40\n",
      "Shuffle Number: 20\n",
      "Shuffle Number: 50\n",
      "Shuffle Number: 30\n",
      "Shuffle Number: 30\n",
      "Shuffle Number: 30\n",
      "Shuffle Number: 30\n",
      "Shuffle Number: 30\n",
      "Shuffle Number: 30\n",
      "Shuffle Number: 30\n",
      "Shuffle Number: 30\n",
      "Shuffle Number: 40\n",
      "Shuffle Number: 40\n",
      "Calculating transfer entropy between tiles!\n",
      "Shuffle Number: 40\n",
      "Shuffle Number: 0\n",
      "Shuffle Number: 30\n",
      "Shuffle Number: 40\n",
      "Calculating transfer entropy between tiles!\n",
      "Shuffle Number: 0\n",
      "Shuffle Number: 40\n",
      "Calculating transfer entropy between tiles!\n",
      "Shuffle Number: 0\n",
      "Shuffle Number: 40\n",
      "Calculating transfer entropy between tiles!\n",
      "Shuffle Number: 0\n",
      "Calculating transfer entropy between tiles!\n",
      "Calculating transfer entropy between tiles!\n",
      "Shuffle Number: 0\n",
      "Shuffle Number: 0\n",
      "Shuffle Number: 40\n",
      "Shuffle Number: 40\n",
      "Calculating transfer entropy between tiles!\n",
      "Shuffle Number: 0\n",
      "Shuffle Number: 50\n",
      "Shuffle Number: 50\n",
      "Shuffle Number: 50\n",
      "Done!\n",
      "Done!\n",
      "Done!\n",
      "Shuffle Number: 50\n",
      "Done!\n",
      "Shuffle Number: 50\n",
      "Shuffle Number: 50\n",
      "Calculating self loop entropies!\n",
      "Shuffle Number: 0\n",
      "Done!\n",
      "Done!\n",
      "Calculating self loop entropies!\n",
      "Shuffle Number: 0\n",
      "Shuffle Number: 40\n",
      "Calculating transfer entropy between tiles!\n",
      "Shuffle Number: 0\n",
      "Calculating self loop entropies!\n",
      "Calculating self loop entropies!\n",
      "Shuffle Number: 0\n",
      "Shuffle Number: 0\n",
      "Shuffle Number: 50\n",
      "Done!\n",
      "Calculating self loop entropies!\n",
      "Shuffle Number: 0\n",
      "Shuffle Number: 50\n",
      "Calculating self loop entropies!\n",
      "Shuffle Number: 0\n",
      "Shuffle Number: 10\n",
      "Done!\n",
      "Shuffle Number: 10\n",
      "Shuffle Number: 10\n",
      "Shuffle Number: 10\n",
      "Calculating self loop entropies!\n",
      "Shuffle Number: 0\n",
      "Shuffle Number: 10\n",
      "Shuffle Number: 20\n",
      "Calculating self loop entropies!\n",
      "Shuffle Number: 0\n",
      "Shuffle Number: 10\n",
      "Shuffle Number: 20\n",
      "Shuffle Number: 20\n",
      "Shuffle Number: 20\n",
      "Shuffle Number: 10\n",
      "Shuffle Number: 20\n",
      "Shuffle Number: 10\n",
      "Shuffle Number: 30\n",
      "Shuffle Number: 10\n",
      "Shuffle Number: 20\n",
      "Shuffle Number: 10\n",
      "Shuffle Number: 30\n",
      "Shuffle Number: 10\n",
      "Shuffle Number: 10\n",
      "Shuffle Number: 10\n",
      "Shuffle Number: 10\n",
      "Shuffle Number: 30\n",
      "Shuffle Number: 50\n",
      "Shuffle Number: 30\n",
      "Shuffle Number: 20\n",
      "Shuffle Number: 30\n",
      "Shuffle Number: 40\n",
      "Done!\n",
      "Shuffle Number: 20\n",
      "Shuffle Number: 40\n",
      "Shuffle Number: 30\n",
      "Shuffle Number: 40\n",
      "Shuffle Number: 10\n",
      "Shuffle Number: 40\n",
      "Shuffle Number: 30\n",
      "Shuffle Number: 40\n",
      "Shuffle Number: 50\n",
      "Calculating self loop entropies!\n",
      "Shuffle Number: 0\n",
      "Shuffle Number: 50\n",
      "Shuffle Number: 30\n",
      "Shuffle Number: 50\n",
      "Shuffle Number: 40\n",
      "Shuffle Number: 50\n",
      "Shuffle Number: 50\n",
      "Shuffle Number: 40\n",
      "Shuffle Number: 10\n",
      "Shuffle Number: 50\n",
      "Shuffle Number: 40\n"
     ]
    }
   ],
   "source": [
    "with Pool(18) as pool:\n",
    "    output = list(pool.map(loop_wrapper_te , product([80,160,320,640],[2,4,8,16,32,64,128,256,512])))"
   ]
  },
  {
   "cell_type": "code",
   "execution_count": null,
   "metadata": {},
   "outputs": [],
   "source": [
    "dx_time = list(product([80,160,320,640],[2,4,8,16,32,64,128,256,512]))"
   ]
  },
  {
   "cell_type": "code",
   "execution_count": null,
   "metadata": {},
   "outputs": [],
   "source": [
    "for i in range(len(dx_time)):\n",
    "    ava_list = output[i]\n",
    "    \n",
    "    with open(f\"avalanches/battles/te/te_ava_box_{dx_time[i][1]}_{dx_time[i][0]}.csv\",\"w\") as f:\n",
    "        wr = csv.writer(f)\n",
    "        wr.writerows(output[i])"
   ]
  },
  {
   "cell_type": "code",
   "execution_count": null,
   "metadata": {},
   "outputs": [],
   "source": []
  },
  {
   "cell_type": "code",
   "execution_count": null,
   "metadata": {},
   "outputs": [],
   "source": []
  },
  {
   "cell_type": "code",
   "execution_count": 28,
   "metadata": {},
   "outputs": [],
   "source": []
  },
  {
   "cell_type": "code",
   "execution_count": null,
   "metadata": {},
   "outputs": [],
   "source": []
  },
  {
   "cell_type": "code",
   "execution_count": null,
   "metadata": {},
   "outputs": [],
   "source": []
  },
  {
   "cell_type": "code",
   "execution_count": null,
   "metadata": {},
   "outputs": [],
   "source": []
  },
  {
   "cell_type": "code",
   "execution_count": null,
   "metadata": {},
   "outputs": [],
   "source": []
  },
  {
   "cell_type": "code",
   "execution_count": null,
   "metadata": {},
   "outputs": [],
   "source": []
  }
 ],
 "metadata": {
  "kernelspec": {
   "display_name": "Python 3",
   "language": "python",
   "name": "python3"
  },
  "language_info": {
   "codemirror_mode": {
    "name": "ipython",
    "version": 3
   },
   "file_extension": ".py",
   "mimetype": "text/x-python",
   "name": "python",
   "nbconvert_exporter": "python",
   "pygments_lexer": "ipython3",
   "version": "3.8.3"
  }
 },
 "nbformat": 4,
 "nbformat_minor": 4
}
