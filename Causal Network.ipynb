{
 "cells": [
  {
   "cell_type": "code",
   "execution_count": 1,
   "metadata": {},
   "outputs": [],
   "source": [
    "import pandas as pd\n",
    "import numpy as np\n",
    "import matplotlib.pyplot as plt\n",
    "import geopandas as gpd\n",
    "\n",
    "import misc_funcs\n",
    "import data\n",
    "import ava_parameter_functions\n",
    "import power_law_func\n",
    "\n",
    "import csv\n",
    "\n",
    "from multiprocess import Pool,cpu_count\n",
    "from itertools import product\n",
    "\n",
    "\n",
    "map2_config = {'version': 'v1',\n",
    " 'config': {'visState': {'filters': [],\n",
    "   'layers': [{'id': '92kf1c',\n",
    "     'type': 'arc',\n",
    "     'config': {'dataId': '256,320',\n",
    "      'label': 'new layer',\n",
    "      'color': [218, 0, 0],\n",
    "      'highlightColor': [252, 242, 26, 255],\n",
    "      'columns': {'lat0': 'lat1',\n",
    "       'lng0': 'long1',\n",
    "       'lat1': 'lat2',\n",
    "       'lng1': 'long2'},\n",
    "      'isVisible': True,\n",
    "      'visConfig': {'opacity': 0.8,\n",
    "       'thickness': 2,\n",
    "       'colorRange': {'name': 'Global Warming',\n",
    "        'type': 'sequential',\n",
    "        'category': 'Uber',\n",
    "        'colors': ['#5A1846',\n",
    "         '#900C3F',\n",
    "         '#C70039',\n",
    "         '#E3611C',\n",
    "         '#F1920E',\n",
    "         '#FFC300']},\n",
    "       'sizeRange': [0.1, 2],\n",
    "       'targetColor': None},\n",
    "      'hidden': False,\n",
    "      'textLabel': [{'field': None,\n",
    "        'color': [255, 255, 255],\n",
    "        'size': 18,\n",
    "        'offset': [0, 0],\n",
    "        'anchor': 'start',\n",
    "        'alignment': 'center'}]},\n",
    "     'visualChannels': {'colorField': None,\n",
    "      'colorScale': 'quantile',\n",
    "      'sizeField': {'name': 'TE', 'type': 'real'},\n",
    "      'sizeScale': 'linear'}}],\n",
    "   'interactionConfig': {'tooltip': {'fieldsToShow': {'256,320': [{'name': 'long1',\n",
    "        'format': None},\n",
    "       {'name': 'lat1', 'format': None},\n",
    "       {'name': 'long2', 'format': None},\n",
    "       {'name': 'lat2', 'format': None},\n",
    "       {'name': 'TE', 'format': None}]},\n",
    "     'compareMode': False,\n",
    "     'compareType': 'absolute',\n",
    "     'enabled': True},\n",
    "    'brush': {'size': 0.5, 'enabled': False},\n",
    "    'geocoder': {'enabled': False},\n",
    "    'coordinate': {'enabled': False}},\n",
    "   'layerBlending': 'normal',\n",
    "   'splitMaps': [],\n",
    "   'animationConfig': {'currentTime': None, 'speed': 1}},\n",
    "  'mapState': {'bearing': 0,\n",
    "   'dragRotate': False,\n",
    "   'latitude': 1.7172966072248994,\n",
    "   'longitude': 18.101964233149975,\n",
    "   'pitch': 0,\n",
    "   'zoom': 2.2866482635409926,\n",
    "   'isSplit': False},\n",
    "  'mapStyle': {'styleType': 'light',\n",
    "   'topLayerGroups': {},\n",
    "   'visibleLayerGroups': {'label': False,\n",
    "    'road': False,\n",
    "    'border': True,\n",
    "    'building': True,\n",
    "    'water': True,\n",
    "    'land': True,\n",
    "    '3d building': False},\n",
    "   'threeDBuildingColor': [9.665468314072013,\n",
    "    17.18305478057247,\n",
    "    31.1442867897876],\n",
    "   'mapStyles': {}}}}"
   ]
  },
  {
   "cell_type": "markdown",
   "metadata": {},
   "source": [
    "## Generate causal structure for a given dx and time"
   ]
  },
  {
   "cell_type": "code",
   "execution_count": 4,
   "metadata": {},
   "outputs": [],
   "source": [
    "dx = 640\n",
    "time = 64\n",
    "\n",
    "#Do not change the variables below this line. (Pipelines for different conflict types and gridix are not set yet)\n",
    "\n",
    "conflict_type = \"battles\"\n",
    "gridix = 0\n",
    "polygons = gpd.read_file(f'voronoi_grids/{dx}/borders{str(gridix).zfill(2)}.shp')"
   ]
  },
  {
   "cell_type": "code",
   "execution_count": null,
   "metadata": {},
   "outputs": [
    {
     "name": "stdout",
     "output_type": "stream",
     "text": [
      "Calculating transfer entropy between tiles!\n",
      "Shuffle Number: 0\n",
      "Shuffle Number: 10\n",
      "Shuffle Number: 20\n",
      "Shuffle Number: 30\n",
      "Shuffle Number: 40\n"
     ]
    }
   ],
   "source": [
    "time_series = misc_funcs.time_series_all_polygons(time,dx,conflict_type)\n",
    "polygons_TE,neighbor_info_dataframe,list_of_tuples_tiles = misc_funcs.neighbor_finder_TE(time_series,time,dx,conflict_type)"
   ]
  },
  {
   "cell_type": "code",
   "execution_count": null,
   "metadata": {},
   "outputs": [],
   "source": [
    "list_of_tuples_tiles  #nan means that we have no links between these two polygons"
   ]
  },
  {
   "cell_type": "markdown",
   "metadata": {},
   "source": [
    "## Visualize the causal network on African map"
   ]
  },
  {
   "cell_type": "code",
   "execution_count": null,
   "metadata": {},
   "outputs": [],
   "source": [
    "tile_pairs = np.array(list_of_tuples_tiles)\n",
    "tile_pairs = tile_pairs[np.isnan(tile_pairs[:,2]) != True]\n",
    "\n",
    "pol1 = polygons.loc[tile_pairs[:,0]][\"geometry\"]\n",
    "pol2 = polygons.loc[tile_pairs[:,1]][\"geometry\"]\n",
    "\n",
    "centroid1 = pol1.centroid.reset_index(drop=True)\n",
    "centroid2 = pol2.centroid.reset_index(drop=True)\n",
    "\n",
    "TE_links_data = pd.DataFrame(columns=[\"one_lng\" , \"one_lat\" , \"two_lng\" , \"two_lat\" , \"TE\"])\n",
    "\n",
    "one_lng = [list(centroid1[i].coords)[0][0] for i in range(len(centroid1))]\n",
    "one_lat = [list(centroid1[i].coords)[0][1] for i in range(len(centroid1))]\n",
    "\n",
    "two_lng = [list(centroid2[i].coords)[0][0] for i in range(len(centroid2))]\n",
    "two_lat = [list(centroid2[i].coords)[0][1] for i in range(len(centroid2))]\n",
    "\n",
    "TE_links_data[\"one_lng\"] = one_lng\n",
    "TE_links_data[\"one_lat\"] = one_lat\n",
    "TE_links_data[\"two_lng\"] = two_lng\n",
    "TE_links_data[\"two_lat\"] = two_lat\n",
    "\n",
    "TE_links_data[\"TE\"] = tile_pairs[:,2]"
   ]
  },
  {
   "cell_type": "code",
   "execution_count": null,
   "metadata": {},
   "outputs": [],
   "source": [
    "from keplergl import KeplerGl\n",
    "map2=KeplerGl(height=800)\n",
    "\n",
    "map2.config = map2_config\n",
    "\n",
    "map2.add_data(data=TE_links_data, name=f\"{str(time)},{str(dx)}\")"
   ]
  },
  {
   "cell_type": "code",
   "execution_count": null,
   "metadata": {},
   "outputs": [],
   "source": [
    "map2"
   ]
  },
  {
   "cell_type": "code",
   "execution_count": null,
   "metadata": {},
   "outputs": [],
   "source": []
  }
 ],
 "metadata": {
  "kernelspec": {
   "display_name": "Python 3",
   "language": "python",
   "name": "python3"
  },
  "language_info": {
   "codemirror_mode": {
    "name": "ipython",
    "version": 3
   },
   "file_extension": ".py",
   "mimetype": "text/x-python",
   "name": "python",
   "nbconvert_exporter": "python",
   "pygments_lexer": "ipython3",
   "version": "3.8.3"
  }
 },
 "nbformat": 4,
 "nbformat_minor": 4
}
