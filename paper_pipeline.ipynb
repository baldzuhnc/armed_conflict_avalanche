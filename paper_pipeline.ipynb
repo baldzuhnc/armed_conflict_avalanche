{
 "cells": [
  {
   "cell_type": "code",
   "execution_count": 1,
   "id": "64da2467",
   "metadata": {},
   "outputs": [],
   "source": [
    "from arcolanche.pipeline import *\n",
    "\n",
    "conflict_type = \"battles\""
   ]
  },
  {
   "cell_type": "markdown",
   "id": "a19f01a9",
   "metadata": {},
   "source": [
    "# Avalanche Generation"
   ]
  },
  {
   "cell_type": "markdown",
   "id": "6b72f3ea",
   "metadata": {},
   "source": [
    "To generate conflict avalanches from scratch, execute the following code cell. However, please note that this process may require a significant amount of time to complete. Alternatively, if you prefer to utilize the avalanche files that were previously generated during our paper's development, you can conveniently download them using the provided link: https://doi.org/10.5281/zenodo.8117567 (download the `avalanches` folder and copy it in the working directory).\n",
    "\n",
    "If you decide to download the data, you may skip the subsequent cell and proceed directly to the `necessary file generation` section."
   ]
  },
  {
   "cell_type": "code",
   "execution_count": null,
   "id": "62d7128d",
   "metadata": {},
   "outputs": [],
   "source": [
    "### Generate pickles of conflict_ev\n",
    "\n",
    "conflict_ev_generator(conflict_type)\n",
    "\n",
    "### Generate pickles of avalanches\n",
    "\n",
    "generate_avalanches(conflict_type)"
   ]
  },
  {
   "cell_type": "markdown",
   "id": "69ff9149",
   "metadata": {},
   "source": [
    "# Necessary file generation for plotting"
   ]
  },
  {
   "cell_type": "code",
   "execution_count": null,
   "id": "6f877cff",
   "metadata": {},
   "outputs": [],
   "source": [
    "### Generate pickles of actor similarity matrix\n",
    "\n",
    "actor_similarity_generator(conflict_type)\n",
    "\n",
    "### Generate pickles of data used matrix\n",
    "\n",
    "data_used_generator(conflict_type)"
   ]
  },
  {
   "cell_type": "markdown",
   "id": "fb78fd5c",
   "metadata": {},
   "source": [
    "# Plots"
   ]
  },
  {
   "cell_type": "code",
   "execution_count": null,
   "id": "13c46eb3",
   "metadata": {},
   "outputs": [],
   "source": [
    "### Plot data used\n",
    "\n",
    "fig = data_used_plot(conflict_type)"
   ]
  },
  {
   "cell_type": "code",
   "execution_count": null,
   "id": "d27a5629",
   "metadata": {},
   "outputs": [],
   "source": [
    "### Plot actor similarity score\n",
    "\n",
    "fig = actor_similarity_plot(conflict_type)"
   ]
  },
  {
   "cell_type": "code",
   "execution_count": null,
   "id": "a2132d04",
   "metadata": {},
   "outputs": [],
   "source": [
    "### Plot Mesoscale\n",
    "\n",
    "fig = mesoscale_plot(conflict_type)"
   ]
  },
  {
   "cell_type": "markdown",
   "id": "4436939c",
   "metadata": {},
   "source": [
    "# Conflict Zones"
   ]
  },
  {
   "cell_type": "code",
   "execution_count": null,
   "id": "0e8cdb81",
   "metadata": {},
   "outputs": [],
   "source": [
    "time = 64\n",
    "dx = 320\n",
    "gridix = 3\n",
    "\n",
    "fig = conflict_zones_figure(time,dx,gridix,conflict_type)"
   ]
  },
  {
   "cell_type": "markdown",
   "id": "cc7538c0",
   "metadata": {},
   "source": [
    "# Clusters figure"
   ]
  },
  {
   "cell_type": "code",
   "execution_count": null,
   "id": "5fd71bdc",
   "metadata": {},
   "outputs": [],
   "source": [
    "fig = conflict_clusters_figure()"
   ]
  }
 ],
 "metadata": {
  "kernelspec": {
   "display_name": "Python 3 (ipykernel)",
   "language": "python",
   "name": "python3"
  },
  "language_info": {
   "codemirror_mode": {
    "name": "ipython",
    "version": 3
   },
   "file_extension": ".py",
   "mimetype": "text/x-python",
   "name": "python",
   "nbconvert_exporter": "python",
   "pygments_lexer": "ipython3",
   "version": "3.10.6"
  }
 },
 "nbformat": 4,
 "nbformat_minor": 5
}
