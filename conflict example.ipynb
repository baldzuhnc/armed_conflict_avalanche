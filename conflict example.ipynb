{
 "cells": [
  {
   "cell_type": "markdown",
   "metadata": {},
   "source": [
    "# Generating spatiotemporal conflict avalanches\n",
    "Author: Eddie Lee, edlee@csh.ac.at\n",
    "\n",
    "Example of how to construct spatiotemporal avalanches."
   ]
  },
  {
   "cell_type": "code",
   "execution_count": 1,
   "metadata": {},
   "outputs": [
    {
     "name": "stdout",
     "output_type": "stream",
     "text": [
      "Populating the interactive namespace from numpy and matplotlib\n"
     ]
    }
   ],
   "source": [
    "%pylab inline"
   ]
  },
  {
   "cell_type": "code",
   "execution_count": 2,
   "metadata": {},
   "outputs": [],
   "source": [
    "plt.rc('font', size=15)"
   ]
  },
  {
   "cell_type": "code",
   "execution_count": 3,
   "metadata": {},
   "outputs": [],
   "source": [
    "from arcolanche import *\n",
    "from arcolanche import cluster"
   ]
  },
  {
   "cell_type": "code",
   "execution_count": 29,
   "metadata": {},
   "outputs": [],
   "source": [
    "dxdt = (80, 256)\n",
    "\n",
    "# load battles data from grid 0\n",
    "conf_type = 'battles'\n",
    "battlesgdf = ws.load_battlesgdf(dxdt[0], 0)\n",
    "cellfile = f'voronoi_grids/{dxdt[0]}/borders00.shp'\n",
    "polygons = gpd.read_file(cellfile)\n",
    "\n",
    "cellneighbors = {}\n",
    "for i, p in polygons.iterrows():\n",
    "    # neighbors including self\n",
    "    cellneighbors[i] = [int(i) for i in p['neighbors'].split(', ')] + [i]"
   ]
  },
  {
   "cell_type": "code",
   "execution_count": 30,
   "metadata": {},
   "outputs": [],
   "source": [
    "# list of lists indicating which events belong to which avalanches\n",
    "avalanches = cluster.cluster_avalanche(battlesgdf, dxdt[1], cellneighbors)"
   ]
  }
 ],
 "metadata": {
  "kernelspec": {
   "display_name": "Python 3",
   "language": "python",
   "name": "python3"
  },
  "language_info": {
   "codemirror_mode": {
    "name": "ipython",
    "version": 3
   },
   "file_extension": ".py",
   "mimetype": "text/x-python",
   "name": "python",
   "nbconvert_exporter": "python",
   "pygments_lexer": "ipython3",
   "version": "3.8.3"
  }
 },
 "nbformat": 4,
 "nbformat_minor": 4
}
